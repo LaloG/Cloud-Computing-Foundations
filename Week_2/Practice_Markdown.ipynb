{
  "nbformat": 4,
  "nbformat_minor": 0,
  "metadata": {
    "kernelspec": {
      "display_name": "Python 3",
      "language": "python",
      "name": "python3"
    },
    "language_info": {
      "codemirror_mode": {
        "name": "ipython",
        "version": 3
      },
      "file_extension": ".py",
      "mimetype": "text/x-python",
      "name": "python",
      "nbconvert_exporter": "python",
      "pygments_lexer": "ipython3",
      "version": "3.7.6"
    },
    "colab": {
      "name": "Practice-Markdown.json",
      "provenance": [],
      "include_colab_link": true
    }
  },
  "cells": [
    {
      "cell_type": "markdown",
      "metadata": {
        "id": "view-in-github",
        "colab_type": "text"
      },
      "source": [
        "<a href=\"https://colab.research.google.com/github/LaloG/Cloud-Computing-Foundations/blob/main/Week_2/Practice_Markdown.ipynb\" target=\"_parent\"><img src=\"https://colab.research.google.com/assets/colab-badge.svg\" alt=\"Open In Colab\"/></a>"
      ]
    },
    {
      "cell_type": "markdown",
      "metadata": {
        "id": "nkJtyE07hy_G"
      },
      "source": [
        "## Practice Markdown"
      ]
    },
    {
      "cell_type": "markdown",
      "metadata": {
        "id": "XjyAGulNhy_I"
      },
      "source": [
        "This notebook lets you experiment with producing repeatable technical documentation.  Use this notebook to do the following actions:\n",
        "\n",
        "* Create a code cell and print a Python Hello World statement:  `print(\"hello world\")`\n",
        "* Create a Markdown Cell and add a Title using `#` and then a statement using plain text.  You can looks at the source code for this cell to get an idea of how to use Markdown.\n",
        "* Take some ideas from the [Master Markdown Github Guide](https://guides.github.com/features/mastering-markdown/) and implement them here.\n",
        "* Download this notebook as a `.ipynb` file and check into a Github Project.  You can [see an example here](https://github.com/noahgift/duke-coursera-ccf-lab1/blob/main/Practice-Markdown.ipynb).\n",
        "* Open your notebook in Google Colab and save it into the same Github Project.  You can [see an example here](https://github.com/noahgift/duke-coursera-ccf-lab1/blob/main/Practice_Markdown_with_colab.ipynb).\n"
      ]
    },
    {
      "cell_type": "markdown",
      "metadata": {
        "id": "DDEV9OFxhy_J"
      },
      "source": [
        "# Hello World with Python"
      ]
    },
    {
      "cell_type": "code",
      "metadata": {
        "id": "RFX7AfTrhy_K",
        "outputId": "0333dd37-abbb-4a72-ebaf-01ce0bd8b577"
      },
      "source": [
        "print(\"Hello World\")"
      ],
      "execution_count": null,
      "outputs": [
        {
          "output_type": "stream",
          "text": [
            "Hello World\n"
          ],
          "name": "stdout"
        }
      ]
    },
    {
      "cell_type": "markdown",
      "metadata": {
        "id": "En7OC4Uzhy_K"
      },
      "source": [
        "# A little history"
      ]
    },
    {
      "cell_type": "markdown",
      "metadata": {
        "id": "bSOIUxwShy_K"
      },
      "source": [
        "Python is a widely used general-purpose, high-level programming language. It was initially designed by Guido van Rossum in 1991 and developed by Python Software Foundation. It was mainly developed for emphasis on code readability, and its syntax allows programmers to express concepts in fewer lines of code."
      ]
    },
    {
      "cell_type": "markdown",
      "metadata": {
        "id": "jufksqbVhy_L"
      },
      "source": [
        "![Python Developer](https://miro.medium.com/max/1672/0*gHid-f4RB4mMZTBl.jpg)"
      ]
    },
    {
      "cell_type": "markdown",
      "metadata": {
        "id": "3ZZXUq8chy_L"
      },
      "source": [
        "\n",
        "With python we can do:\n",
        "- Artificial intelligence\n",
        "  - Data science\n",
        "  - Machine Learning\n",
        "  - Deep Learning\n",
        "- Web Service (Back End)\n",
        "- Web applications (Full Stack)\n",
        "- Process automation\n",
        "- Microcontrollers programming\n",
        "- <strong> Among many other things ... <strong>"
      ]
    },
    {
      "cell_type": "code",
      "metadata": {
        "id": "bN6nkI2Ihy_M"
      },
      "source": [
        ""
      ],
      "execution_count": null,
      "outputs": []
    }
  ]
}